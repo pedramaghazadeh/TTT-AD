{
 "cells": [
  {
   "cell_type": "code",
   "execution_count": 1,
   "id": "51917ec7",
   "metadata": {},
   "outputs": [],
   "source": [
    "import os\n",
    "import requests\n",
    "import zipfile\n",
    "import cv2\n",
    "import json\n",
    "from tqdm import tqdm\n",
    "\n",
    "path = \"/scr/Pedram/VisualLearning/kitti_2d_objects/\""
   ]
  },
  {
   "cell_type": "code",
   "execution_count": 2,
   "id": "6faf65be",
   "metadata": {},
   "outputs": [],
   "source": [
    "labels = json.load(open(os.path.join(path, \"labels.json\")))"
   ]
  },
  {
   "cell_type": "code",
   "execution_count": 4,
   "id": "b617d795",
   "metadata": {},
   "outputs": [],
   "source": [
    "img_labels = [value for key, value in labels.items() if key.endswith(\".png\")]"
   ]
  },
  {
   "cell_type": "code",
   "execution_count": 6,
   "id": "b2dfbfdb",
   "metadata": {},
   "outputs": [
    {
     "name": "stdout",
     "output_type": "stream",
     "text": [
      "40570\n"
     ]
    }
   ],
   "source": [
    "print(len(img_labels))\n",
    "classes = set(img_labels)"
   ]
  },
  {
   "cell_type": "code",
   "execution_count": 12,
   "id": "b04b241b",
   "metadata": {},
   "outputs": [
    {
     "name": "stdout",
     "output_type": "stream",
     "text": [
      "{'Pedestrian', 'Truck', 'Tram', 'Cyclist', 'Van', 'Person_sitting', 'Misc', 'Car'}\n",
      "{'Pedestrian': 0, 'Truck': 0, 'Tram': 0, 'Cyclist': 0, 'Van': 0, 'Person_sitting': 0, 'Misc': 0, 'Car': 0}\n"
     ]
    }
   ],
   "source": [
    "print(classes)\n",
    "count = {}\n",
    "for class_name in classes:\n",
    "    count[class_name] = 0\n",
    "print(count)"
   ]
  },
  {
   "cell_type": "code",
   "execution_count": 14,
   "id": "37610fda",
   "metadata": {},
   "outputs": [
    {
     "name": "stdout",
     "output_type": "stream",
     "text": [
      "Car: 1000\n",
      "Car: 2000\n",
      "Car: 3000\n",
      "Car: 4000\n",
      "Car: 5000\n",
      "Car: 6000\n",
      "Pedestrian: 1000\n",
      "Car: 7000\n",
      "Car: 8000\n",
      "Car: 9000\n",
      "Van: 1000\n",
      "Car: 10000\n",
      "Car: 11000\n",
      "Car: 12000\n",
      "Pedestrian: 2000\n",
      "Car: 13000\n",
      "Car: 14000\n",
      "Car: 15000\n",
      "Car: 16000\n",
      "Cyclist: 1000\n",
      "Car: 17000\n",
      "Car: 18000\n",
      "Pedestrian: 3000\n",
      "Car: 19000\n",
      "Van: 2000\n",
      "Car: 20000\n",
      "Car: 21000\n",
      "Car: 22000\n",
      "Car: 23000\n",
      "Car: 24000\n",
      "Car: 25000\n",
      "Pedestrian: 4000\n",
      "Car: 26000\n",
      "Truck: 1000\n",
      "Car: 27000\n",
      "Car: 28000\n"
     ]
    }
   ],
   "source": [
    "for img, class_name in labels.items():\n",
    "    count[class_name] += 1\n",
    "    if count[class_name] % 1000 == 0:\n",
    "        print(f\"{class_name}: {count[class_name]}\")"
   ]
  },
  {
   "cell_type": "code",
   "execution_count": null,
   "id": "079945ff",
   "metadata": {},
   "outputs": [
    {
     "name": "stdout",
     "output_type": "stream",
     "text": [
      "Number of images with labels: 40570\n",
      "Classes: {'Pedestrian', 'Truck', 'Tram', 'Cyclist', 'Van', 'Person_sitting', 'Misc', 'Car'}\n",
      "Counts: {'Pedestrian': 4487, 'Truck': 1094, 'Tram': 511, 'Cyclist': 1627, 'Van': 2914, 'Person_sitting': 222, 'Misc': 973, 'Car': 28742}\n",
      "Minimum count: 222\n"
     ]
    }
   ],
   "source": [
    "print(\"Number of images with labels:\", len(img_labels))\n",
    "print(\"Classes:\", classes)\n",
    "print(\"Counts:\", count)\n",
    "min_count = 3000"
   ]
  },
  {
   "cell_type": "code",
   "execution_count": null,
   "id": "ab3b4b70",
   "metadata": {},
   "outputs": [],
   "source": [
    "# Extracting a more balanced dataset\n",
    "balanced_labels = {}\n",
    "count = {}\n",
    "for class_name in classes:\n",
    "    count[class_name] = 0\n",
    "\n",
    "for img, class_name in labels.items():\n",
    "    if count[class_name] <= min_count:\n",
    "        balanced_labels[img] = class_name\n",
    "        count[class_name] += 1"
   ]
  },
  {
   "cell_type": "code",
   "execution_count": 18,
   "id": "30db769b",
   "metadata": {},
   "outputs": [
    {
     "name": "stdout",
     "output_type": "stream",
     "text": [
      "1783\n"
     ]
    }
   ],
   "source": [
    "print(len(balanced_labels))"
   ]
  }
 ],
 "metadata": {
  "kernelspec": {
   "display_name": "ece285",
   "language": "python",
   "name": "python3"
  },
  "language_info": {
   "codemirror_mode": {
    "name": "ipython",
    "version": 3
   },
   "file_extension": ".py",
   "mimetype": "text/x-python",
   "name": "python",
   "nbconvert_exporter": "python",
   "pygments_lexer": "ipython3",
   "version": "3.9.22"
  }
 },
 "nbformat": 4,
 "nbformat_minor": 5
}
